{
 "cells": [
  {
   "cell_type": "code",
   "execution_count": 4,
   "id": "83afdb51",
   "metadata": {},
   "outputs": [],
   "source": [
    "### spotify recommendation engine\n",
    "\n",
    "\n",
    "import numpy as np\n",
    "import pandas as pd"
   ]
  },
  {
   "cell_type": "code",
   "execution_count": 5,
   "id": "de9e5dbc",
   "metadata": {},
   "outputs": [],
   "source": [
    "df = pd.read_csv('top50.csv',encoding = 'ISO-8859-1') ### load data and we use encoding so we can get full data\n",
    "\n",
    "### by default data is in utf-8 which has only english chars. so to get all the chars we use encoding"
   ]
  },
  {
   "cell_type": "code",
   "execution_count": 7,
   "id": "08897da3",
   "metadata": {},
   "outputs": [
    {
     "data": {
      "text/html": [
       "<div>\n",
       "<style scoped>\n",
       "    .dataframe tbody tr th:only-of-type {\n",
       "        vertical-align: middle;\n",
       "    }\n",
       "\n",
       "    .dataframe tbody tr th {\n",
       "        vertical-align: top;\n",
       "    }\n",
       "\n",
       "    .dataframe thead th {\n",
       "        text-align: right;\n",
       "    }\n",
       "</style>\n",
       "<table border=\"1\" class=\"dataframe\">\n",
       "  <thead>\n",
       "    <tr style=\"text-align: right;\">\n",
       "      <th></th>\n",
       "      <th>Unnamed: 0</th>\n",
       "      <th>Track.Name</th>\n",
       "      <th>Artist.Name</th>\n",
       "      <th>Genre</th>\n",
       "      <th>Beats.Per.Minute</th>\n",
       "      <th>Energy</th>\n",
       "      <th>Danceability</th>\n",
       "      <th>Loudness..dB..</th>\n",
       "      <th>Liveness</th>\n",
       "      <th>Valence.</th>\n",
       "      <th>Length.</th>\n",
       "      <th>Acousticness..</th>\n",
       "      <th>Speechiness.</th>\n",
       "      <th>Popularity</th>\n",
       "    </tr>\n",
       "  </thead>\n",
       "  <tbody>\n",
       "    <tr>\n",
       "      <th>0</th>\n",
       "      <td>1</td>\n",
       "      <td>Señorita</td>\n",
       "      <td>Shawn Mendes</td>\n",
       "      <td>canadian pop</td>\n",
       "      <td>117</td>\n",
       "      <td>55</td>\n",
       "      <td>76</td>\n",
       "      <td>-6</td>\n",
       "      <td>8</td>\n",
       "      <td>75</td>\n",
       "      <td>191</td>\n",
       "      <td>4</td>\n",
       "      <td>3</td>\n",
       "      <td>79</td>\n",
       "    </tr>\n",
       "    <tr>\n",
       "      <th>1</th>\n",
       "      <td>2</td>\n",
       "      <td>China</td>\n",
       "      <td>Anuel AA</td>\n",
       "      <td>reggaeton flow</td>\n",
       "      <td>105</td>\n",
       "      <td>81</td>\n",
       "      <td>79</td>\n",
       "      <td>-4</td>\n",
       "      <td>8</td>\n",
       "      <td>61</td>\n",
       "      <td>302</td>\n",
       "      <td>8</td>\n",
       "      <td>9</td>\n",
       "      <td>92</td>\n",
       "    </tr>\n",
       "    <tr>\n",
       "      <th>2</th>\n",
       "      <td>3</td>\n",
       "      <td>boyfriend (with Social House)</td>\n",
       "      <td>Ariana Grande</td>\n",
       "      <td>dance pop</td>\n",
       "      <td>190</td>\n",
       "      <td>80</td>\n",
       "      <td>40</td>\n",
       "      <td>-4</td>\n",
       "      <td>16</td>\n",
       "      <td>70</td>\n",
       "      <td>186</td>\n",
       "      <td>12</td>\n",
       "      <td>46</td>\n",
       "      <td>85</td>\n",
       "    </tr>\n",
       "    <tr>\n",
       "      <th>3</th>\n",
       "      <td>4</td>\n",
       "      <td>Beautiful People (feat. Khalid)</td>\n",
       "      <td>Ed Sheeran</td>\n",
       "      <td>pop</td>\n",
       "      <td>93</td>\n",
       "      <td>65</td>\n",
       "      <td>64</td>\n",
       "      <td>-8</td>\n",
       "      <td>8</td>\n",
       "      <td>55</td>\n",
       "      <td>198</td>\n",
       "      <td>12</td>\n",
       "      <td>19</td>\n",
       "      <td>86</td>\n",
       "    </tr>\n",
       "    <tr>\n",
       "      <th>4</th>\n",
       "      <td>5</td>\n",
       "      <td>Goodbyes (Feat. Young Thug)</td>\n",
       "      <td>Post Malone</td>\n",
       "      <td>dfw rap</td>\n",
       "      <td>150</td>\n",
       "      <td>65</td>\n",
       "      <td>58</td>\n",
       "      <td>-4</td>\n",
       "      <td>11</td>\n",
       "      <td>18</td>\n",
       "      <td>175</td>\n",
       "      <td>45</td>\n",
       "      <td>7</td>\n",
       "      <td>94</td>\n",
       "    </tr>\n",
       "  </tbody>\n",
       "</table>\n",
       "</div>"
      ],
      "text/plain": [
       "   Unnamed: 0                       Track.Name    Artist.Name           Genre  \\\n",
       "0           1                         Señorita   Shawn Mendes    canadian pop   \n",
       "1           2                            China       Anuel AA  reggaeton flow   \n",
       "2           3    boyfriend (with Social House)  Ariana Grande       dance pop   \n",
       "3           4  Beautiful People (feat. Khalid)     Ed Sheeran             pop   \n",
       "4           5      Goodbyes (Feat. Young Thug)    Post Malone         dfw rap   \n",
       "\n",
       "   Beats.Per.Minute  Energy  Danceability  Loudness..dB..  Liveness  Valence.  \\\n",
       "0               117      55            76              -6         8        75   \n",
       "1               105      81            79              -4         8        61   \n",
       "2               190      80            40              -4        16        70   \n",
       "3                93      65            64              -8         8        55   \n",
       "4               150      65            58              -4        11        18   \n",
       "\n",
       "   Length.  Acousticness..  Speechiness.  Popularity  \n",
       "0      191               4             3          79  \n",
       "1      302               8             9          92  \n",
       "2      186              12            46          85  \n",
       "3      198              12            19          86  \n",
       "4      175              45             7          94  "
      ]
     },
     "execution_count": 7,
     "metadata": {},
     "output_type": "execute_result"
    }
   ],
   "source": [
    "df.head() ### displays first 5 rows and all columns"
   ]
  },
  {
   "cell_type": "code",
   "execution_count": 10,
   "id": "0b689d5a",
   "metadata": {},
   "outputs": [],
   "source": [
    "df.columns = [i.lower().replace('.','') for i in df] ### here we are cleaning the columns for our ease. we replace dots\n",
    "\n",
    "### with no spaces"
   ]
  },
  {
   "cell_type": "code",
   "execution_count": 11,
   "id": "c7615650",
   "metadata": {},
   "outputs": [
    {
     "data": {
      "text/plain": [
       "Index(['unnamed: 0', 'trackname', 'artistname', 'genre', 'beatsperminute',\n",
       "       'energy', 'danceability', 'loudnessdb', 'liveness', 'valence', 'length',\n",
       "       'acousticness', 'speechiness', 'popularity'],\n",
       "      dtype='object')"
      ]
     },
     "execution_count": 11,
     "metadata": {},
     "output_type": "execute_result"
    }
   ],
   "source": [
    "df.columns ### display columns"
   ]
  },
  {
   "cell_type": "code",
   "execution_count": 79,
   "id": "868cbf75",
   "metadata": {},
   "outputs": [],
   "source": [
    "class SpotifyRecommendation:\n",
    "    \n",
    "    def __init__(self): ### we initialize our constructor here\n",
    "        \n",
    "        self.df = pd.read_csv('top50.csv', encoding='ISO-8859-1')\n",
    "        self.numerical_df = None\n",
    "        self.results = dict()\n",
    "        \n",
    "    def columns_rename(self): ### changing name of columns for our ease\n",
    "        \n",
    "        self.df.columns = [i.lower().replace('.','') for i in self.df]\n",
    "        \n",
    "    def remove_unwanted_columns(self):\n",
    "        \n",
    "        self.df.drop(columns = ['unnamed: 0'], axis = 1, inplace = True)\n",
    "        \n",
    "    def cleaning_str_column(self):\n",
    "        \n",
    "        for i in ['trackname','artistname','genre']:\n",
    "            self.df[i] = self.df[i].str.lower()\n",
    "            \n",
    "    def normalized_algo(self,col):\n",
    "        \n",
    "        max_d = self.df[col].max()\n",
    "        min_d = self.df[col].min()\n",
    "        return (self.df[col] - min_d) / (max_d - min_d)\n",
    "    \n",
    "    def normalized_column(self):\n",
    "        \n",
    "        df_numerical = self.df.select_dtypes(include = ['int64'])\n",
    "        self.numerical_df = df_numerical\n",
    "        for col in df_numerical.columns:\n",
    "            self.df[col] = self.normalized_algo(col)\n",
    "            \n",
    "    def cluster_creation(self):\n",
    "        \n",
    "        from sklearn.cluster import KMeans\n",
    "        \n",
    "        km = KMeans(n_clusters = 10)\n",
    "        pred = km.fit_predict(self.numerical_df)\n",
    "        self.df['cluster_val'] = pred\n",
    "        \n",
    "    def fit(self):\n",
    "        \n",
    "        total_songs = list(self.df['trackname'].unique())\n",
    "        \n",
    "        for song_name in total_songs:\n",
    "            distances = []\n",
    "            song_res = self.df[self.df['trackname'] == song_name].head(1).values[0]\n",
    "            rem_data = self.df[self.df['trackname'] != song_name]\n",
    "            \n",
    "            for r_songs in rem_data.values:\n",
    "                dist = 0\n",
    "                \n",
    "                for idx,col in enumerate(rem_data.columns):\n",
    "                    if not col in ['trackname','artistname','genre']:\n",
    "                        dist = dist + np.absolute(float(song_res[idx]) - float(r_songs[idx]))\n",
    "                        \n",
    "                distances.append(dist)\n",
    "            rem_data['distance'] = distances\n",
    "            rem_data = rem_data.sort_values('distance')\n",
    "            temp = rem_data.to_dict(orient = 'records')\n",
    "            self.results[song_name] = temp\n",
    "            \n",
    "    def predict(self,song_name,top=5):\n",
    "        \n",
    "        return self.results[song_name][0:top]\n",
    "    \n",
    "    \n",
    "                "
   ]
  },
  {
   "cell_type": "code",
   "execution_count": 80,
   "id": "a9f5ceee",
   "metadata": {},
   "outputs": [],
   "source": [
    "s = SpotifyRecommendation()"
   ]
  },
  {
   "cell_type": "code",
   "execution_count": 81,
   "id": "2c7ea987",
   "metadata": {},
   "outputs": [],
   "source": [
    "s.columns_rename()"
   ]
  },
  {
   "cell_type": "code",
   "execution_count": 82,
   "id": "6183fb24",
   "metadata": {},
   "outputs": [],
   "source": [
    "s.cleaning_str_column()"
   ]
  },
  {
   "cell_type": "code",
   "execution_count": 83,
   "id": "2c66d5c3",
   "metadata": {},
   "outputs": [],
   "source": [
    "s.remove_unwanted_columns()"
   ]
  },
  {
   "cell_type": "code",
   "execution_count": 84,
   "id": "0c5697ae",
   "metadata": {},
   "outputs": [],
   "source": [
    "s.normalized_column()"
   ]
  },
  {
   "cell_type": "code",
   "execution_count": 85,
   "id": "5835e306",
   "metadata": {},
   "outputs": [],
   "source": [
    "s.cluster_creation()"
   ]
  },
  {
   "cell_type": "code",
   "execution_count": 86,
   "id": "161eeb09",
   "metadata": {},
   "outputs": [
    {
     "name": "stderr",
     "output_type": "stream",
     "text": [
      "<ipython-input-79-117a13d4840f>:60: SettingWithCopyWarning: \n",
      "A value is trying to be set on a copy of a slice from a DataFrame.\n",
      "Try using .loc[row_indexer,col_indexer] = value instead\n",
      "\n",
      "See the caveats in the documentation: https://pandas.pydata.org/pandas-docs/stable/user_guide/indexing.html#returning-a-view-versus-a-copy\n",
      "  rem_data['distance'] = distances\n"
     ]
    }
   ],
   "source": [
    "s.fit()"
   ]
  },
  {
   "cell_type": "code",
   "execution_count": 87,
   "id": "5d6583ea",
   "metadata": {},
   "outputs": [
    {
     "data": {
      "text/plain": [
       "[{'trackname': 'bad guy (with justin bieber)',\n",
       "  'artistname': 'billie eilish',\n",
       "  'genre': 'electropop',\n",
       "  'beatsperminute': 0.47619047619047616,\n",
       "  'energy': 0.23214285714285715,\n",
       "  'danceability': 0.6229508196721312,\n",
       "  'loudnessdb': 0.0,\n",
       "  'liveness': 0.1320754716981132,\n",
       "  'valence': 0.6823529411764706,\n",
       "  'length': 0.41237113402061853,\n",
       "  'acousticness': 0.32432432432432434,\n",
       "  'speechiness': 0.627906976744186,\n",
       "  'popularity': 0.76,\n",
       "  'cluster_val': 0,\n",
       "  'distance': 0.80311619213925},\n",
       " {'trackname': '7 rings',\n",
       "  'artistname': 'ariana grande',\n",
       "  'genre': 'dance pop',\n",
       "  'beatsperminute': 0.5238095238095238,\n",
       "  'energy': 0.0,\n",
       "  'danceability': 0.8032786885245902,\n",
       "  'loudnessdb': 0.0,\n",
       "  'liveness': 0.07547169811320754,\n",
       "  'valence': 0.27058823529411763,\n",
       "  'length': 0.32989690721649484,\n",
       "  'acousticness': 0.7837837837837838,\n",
       "  'speechiness': 0.6976744186046512,\n",
       "  'popularity': 0.76,\n",
       "  'cluster_val': 0,\n",
       "  'distance': 1.4496013286013043},\n",
       " {'trackname': 'talk',\n",
       "  'artistname': 'khalid',\n",
       "  'genre': 'pop',\n",
       "  'beatsperminute': 0.4857142857142857,\n",
       "  'energy': 0.14285714285714285,\n",
       "  'danceability': 1.0,\n",
       "  'loudnessdb': 0.2222222222222222,\n",
       "  'liveness': 0.018867924528301886,\n",
       "  'valence': 0.29411764705882354,\n",
       "  'length': 0.42783505154639173,\n",
       "  'acousticness': 0.05405405405405406,\n",
       "  'speechiness': 0.23255813953488372,\n",
       "  'popularity': 0.56,\n",
       "  'cluster_val': 0,\n",
       "  'distance': 2.3561091183357146},\n",
       " {'trackname': 'goodbyes (feat. young thug)',\n",
       "  'artistname': 'post malone',\n",
       "  'genre': 'dfw rap',\n",
       "  'beatsperminute': 0.6190476190476191,\n",
       "  'energy': 0.5892857142857143,\n",
       "  'danceability': 0.47540983606557374,\n",
       "  'loudnessdb': 0.7777777777777778,\n",
       "  'liveness': 0.11320754716981132,\n",
       "  'valence': 0.09411764705882353,\n",
       "  'length': 0.30927835051546393,\n",
       "  'acousticness': 0.5945945945945946,\n",
       "  'speechiness': 0.09302325581395349,\n",
       "  'popularity': 0.96,\n",
       "  'cluster_val': 0,\n",
       "  'distance': 2.9971706620753857},\n",
       " {'trackname': \"it's you\",\n",
       "  'artistname': 'ali gatie',\n",
       "  'genre': 'canadian hip hop',\n",
       "  'beatsperminute': 0.10476190476190476,\n",
       "  'energy': 0.25,\n",
       "  'danceability': 0.7213114754098361,\n",
       "  'loudnessdb': 0.4444444444444444,\n",
       "  'liveness': 0.2641509433962264,\n",
       "  'valence': 0.35294117647058826,\n",
       "  'length': 0.5051546391752577,\n",
       "  'acousticness': 0.4864864864864865,\n",
       "  'speechiness': 0.0,\n",
       "  'popularity': 0.76,\n",
       "  'cluster_val': 2,\n",
       "  'distance': 4.482617073941705}]"
      ]
     },
     "execution_count": 87,
     "metadata": {},
     "output_type": "execute_result"
    }
   ],
   "source": [
    "s.predict('bad guy')"
   ]
  },
  {
   "cell_type": "code",
   "execution_count": null,
   "id": "32db59c6",
   "metadata": {},
   "outputs": [],
   "source": []
  }
 ],
 "metadata": {
  "kernelspec": {
   "display_name": "Python 3",
   "language": "python",
   "name": "python3"
  },
  "language_info": {
   "codemirror_mode": {
    "name": "ipython",
    "version": 3
   },
   "file_extension": ".py",
   "mimetype": "text/x-python",
   "name": "python",
   "nbconvert_exporter": "python",
   "pygments_lexer": "ipython3",
   "version": "3.8.8"
  }
 },
 "nbformat": 4,
 "nbformat_minor": 5
}
